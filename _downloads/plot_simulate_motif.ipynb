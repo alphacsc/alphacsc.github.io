{
  "nbformat_minor": 0, 
  "nbformat": 4, 
  "cells": [
    {
      "execution_count": null, 
      "cell_type": "code", 
      "source": [
        "%matplotlib inline"
      ], 
      "outputs": [], 
      "metadata": {
        "collapsed": false
      }
    }, 
    {
      "source": [
        "\n# MoTIF on simulated data\n\nThis example demonstrates MoTIF [1] on simulated data. In the\nalphacsc module, we are offering all the alternatives for the users\nto try. Please cite our paper [2] if you use this implementation.\n\n[1] Jost, Philippe, et al.\n    \"MoTIF: An efficient algorithm for learning\n    translation invariant dictionaries.\" Acoustics, Speech and Signal\n    Processing, 2006. ICASSP 2006 Proceedings. 2006 IEEE International\n    Conference on. Vol. 5. IEEE, 2006.\n[2] Jas, M., Tour, L., Dupr\u00e9, T., \u015eim\u015fekli, U., & Gramfort, A. (2017).\n    Learning the Morphology of Brain Signals Using Alpha-Stable Convolutional\n    Sparse Coding. arXiv preprint arXiv:1705.08006.\n"
      ], 
      "cell_type": "markdown", 
      "metadata": {}
    }, 
    {
      "execution_count": null, 
      "cell_type": "code", 
      "source": [
        "# Authors: Mainak Jas <mainak.jas@telecom-paristech.fr>\n#          Tom Dupre La Tour <tom.duprelatour@telecom-paristech.fr>\n#          Umut Simsekli <umut.simsekli@telecom-paristech.fr>\n#          Alexandre Gramfort <alexandre.gramfort@telecom-paristech.fr>\n#\n# License: BSD (3-clause)"
      ], 
      "outputs": [], 
      "metadata": {
        "collapsed": false
      }
    }, 
    {
      "source": [
        "Let us first import the modules.\n"
      ], 
      "cell_type": "markdown", 
      "metadata": {}
    }, 
    {
      "execution_count": null, 
      "cell_type": "code", 
      "source": [
        "import matplotlib.pyplot as plt\nfrom alphacsc.simulate import simulate_data\nfrom alphacsc.motif import learn_atoms"
      ], 
      "outputs": [], 
      "metadata": {
        "collapsed": false
      }
    }, 
    {
      "source": [
        "and define the relevant parameters. Note we choose a large n_times\nto avoid overlapping atoms which MoTIF cannot handle\n"
      ], 
      "cell_type": "markdown", 
      "metadata": {}
    }, 
    {
      "execution_count": null, 
      "cell_type": "code", 
      "source": [
        "n_times_atom = 64  # L\nn_times = 5000  # T\nn_atoms = 2  # K\nn_trials = 10  # N"
      ], 
      "outputs": [], 
      "metadata": {
        "collapsed": false
      }
    }, 
    {
      "source": [
        "simulate the data.\n"
      ], 
      "cell_type": "markdown", 
      "metadata": {}
    }, 
    {
      "execution_count": null, 
      "cell_type": "code", 
      "source": [
        "random_state_simulate = 1\nX, ds_true, Z_true = simulate_data(n_trials, n_times, n_times_atom,\n                                   n_atoms, random_state_simulate,\n                                   constant_amplitude=True)\n\nn_times_atom = n_times_atom * 7  # XXX: hack\nn_iter = 10\nmax_shift = 11  # after this, the algorithm breaks"
      ], 
      "outputs": [], 
      "metadata": {
        "collapsed": false
      }
    }, 
    {
      "source": [
        "Note, how we use constant_amplitude=True since\nMoTIF cannot handle atoms of varying amplitudes. Check out our examples\non :ref:`vanilla CSC <sphx_glr_auto_examples_plot_simulate_csc.py>` and\n:ref:`alphaCSC <sphx_glr_auto_examples_plot_simulate_alphacsc.py>` to learn\nhow to deal with such cases.\nFinally, let us estimate the atoms.\n"
      ], 
      "cell_type": "markdown", 
      "metadata": {}
    }, 
    {
      "execution_count": null, 
      "cell_type": "code", 
      "source": [
        "ds_hat = learn_atoms(X, n_atoms, n_times_atom, n_iter=n_iter,\n                     max_shift=max_shift, random_state=42)\nplt.plot(ds_hat.T)"
      ], 
      "outputs": [], 
      "metadata": {
        "collapsed": false
      }
    }, 
    {
      "source": [
        "Compare this to the original atoms\n"
      ], 
      "cell_type": "markdown", 
      "metadata": {}
    }, 
    {
      "execution_count": null, 
      "cell_type": "code", 
      "source": [
        "plt.figure()\nplt.plot(ds_true.T)\nplt.show()"
      ], 
      "outputs": [], 
      "metadata": {
        "collapsed": false
      }
    }
  ], 
  "metadata": {
    "kernelspec": {
      "display_name": "Python 2", 
      "name": "python2", 
      "language": "python"
    }, 
    "language_info": {
      "mimetype": "text/x-python", 
      "nbconvert_exporter": "python", 
      "name": "python", 
      "file_extension": ".py", 
      "version": "2.7.13", 
      "pygments_lexer": "ipython2", 
      "codemirror_mode": {
        "version": 2, 
        "name": "ipython"
      }
    }
  }
}