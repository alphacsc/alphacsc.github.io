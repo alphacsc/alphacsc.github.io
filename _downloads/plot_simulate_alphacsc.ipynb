{
  "nbformat_minor": 0, 
  "nbformat": 4, 
  "cells": [
    {
      "execution_count": null, 
      "cell_type": "code", 
      "source": [
        "%matplotlib inline"
      ], 
      "outputs": [], 
      "metadata": {
        "collapsed": false
      }
    }, 
    {
      "source": [
        "\n# Alpha CSC on simulated data\n\n\nThis example demonstrates alphaCSC on simulated data.\n\n\n"
      ], 
      "cell_type": "markdown", 
      "metadata": {}
    }, 
    {
      "execution_count": null, 
      "cell_type": "code", 
      "source": [
        "# Authors: Mainak Jas <mainak.jas@telecom-paristech.fr>\n#          Tom Dupre La Tour <tom.duprelatour@telecom-paristech.fr>\n#          Umut Simsekli <umut.simsekli@telecom-paristech.fr>\n#          Alexandre Gramfort <alexandre.gramfort@telecom-paristech.fr>\n#\n# License: BSD (3-clause)"
      ], 
      "outputs": [], 
      "metadata": {
        "collapsed": false
      }
    }, 
    {
      "source": [
        "Let us first define the parameters of our model.\n\n"
      ], 
      "cell_type": "markdown", 
      "metadata": {}
    }, 
    {
      "execution_count": null, 
      "cell_type": "code", 
      "source": [
        "n_times_atom = 64  # L\nn_times = 512  # T\nn_atoms = 2  # K\nn_trials = 100  # N\n\nalpha = 1.2\nreg = 0.1"
      ], 
      "outputs": [], 
      "metadata": {
        "collapsed": false
      }
    }, 
    {
      "source": [
        "Next, we define the parameters for alpha CSC\n\n"
      ], 
      "cell_type": "markdown", 
      "metadata": {}
    }, 
    {
      "execution_count": null, 
      "cell_type": "code", 
      "source": [
        "n_iter_global = 10\nn_iter_optim = 50\nn_iter_mcmc = 100\nn_burnin_mcmc = 50"
      ], 
      "outputs": [], 
      "metadata": {
        "collapsed": false
      }
    }, 
    {
      "source": [
        "Here, we simulate the data\n\n"
      ], 
      "cell_type": "markdown", 
      "metadata": {}
    }, 
    {
      "execution_count": null, 
      "cell_type": "code", 
      "source": [
        "from alphacsc.simulate import simulate_data # noqa\n\nrandom_state_simulate = 1\nX, ds_true, Z_true = simulate_data(n_trials, n_times, n_times_atom,\n                                   n_atoms, random_state_simulate)"
      ], 
      "outputs": [], 
      "metadata": {
        "collapsed": false
      }
    }, 
    {
      "source": [
        "Add some noise and corrupt some trials even with impulsive noise\n\n"
      ], 
      "cell_type": "markdown", 
      "metadata": {}
    }, 
    {
      "execution_count": null, 
      "cell_type": "code", 
      "source": [
        "from scipy.stats import levy_stable # noqa\nfrom alphacsc import check_random_state # noqa\n\nfraction_corrupted = 0.02\nn_corrupted_trials = int(fraction_corrupted * n_trials)\n\n# Add stationary noise:\nrng = check_random_state(random_state_simulate)\nX += 0.01 * rng.randn(*X.shape)\n\nnoise_level = 0.005\n# add impulsive noise\nidx_corrupted = rng.randint(0, n_trials,\n                            size=n_corrupted_trials)\nX[idx_corrupted] += levy_stable.rvs(alpha, 0, loc=0, scale=noise_level,\n                                    size=(n_corrupted_trials, n_times),\n                                    random_state=random_state_simulate)"
      ], 
      "outputs": [], 
      "metadata": {
        "collapsed": false
      }
    }, 
    {
      "source": [
        "and then alpha CSC on the same data\n\n"
      ], 
      "cell_type": "markdown", 
      "metadata": {}
    }, 
    {
      "execution_count": null, 
      "cell_type": "code", 
      "source": [
        "from functools import partial # noqa\nfrom alphacsc import learn_d_z_weighted # noqa\n\nd_hat, z_hat, Tau = learn_d_z_weighted(\n    X, n_atoms, n_times_atom, reg=reg, alpha=alpha,\n    solver_d_kwargs=dict(factr=100), n_iter_global=n_iter_global,\n    n_iter_optim=n_iter_optim, init_tau=True,\n    n_iter_mcmc=n_iter_mcmc, n_burnin_mcmc=n_burnin_mcmc,\n    random_state=60, n_jobs=1, verbose=1)"
      ], 
      "outputs": [], 
      "metadata": {
        "collapsed": false
      }
    }, 
    {
      "source": [
        "Finally, let's compare the results. Now, it works even in the presence\nof impulsive noise.\n\n"
      ], 
      "cell_type": "markdown", 
      "metadata": {}
    }, 
    {
      "execution_count": null, 
      "cell_type": "code", 
      "source": [
        "import matplotlib.pyplot as plt # noqa\n\nplt.figure()\nplt.plot(d_hat.T, 'b', label=r'$\\alpha$CSC')\nplt.plot(ds_true.T, 'k--', label='True atoms')\nhandles, labels = plt.gca().get_legend_handles_labels()\nplt.legend(handles[::2], labels[::2], loc='best')\nplt.show()"
      ], 
      "outputs": [], 
      "metadata": {
        "collapsed": false
      }
    }, 
    {
      "source": [
        "We can even visualize the weights to see what time points were\ndownweighted by the algorithm\n\n"
      ], 
      "cell_type": "markdown", 
      "metadata": {}
    }, 
    {
      "execution_count": null, 
      "cell_type": "code", 
      "source": [
        "fig, axes = plt.subplots(2, 1, sharex=True)\naxes[0].set_xlim([-20, n_times])\naxes[0].set_ylim([0, 2])\naxes[1].set_ylim([-0.5, 0.3])\n\nfor t in [2, 250]:\n    axes[0].axvline(t, linestyle='-.')\n    axes[1].axvline(t, linestyle='-.')\n\naxes[0].plot(1 / Tau[idx_corrupted[0], :])\naxes[0].set_ylabel('1 / weights')\naxes[1].plot(X[idx_corrupted[0], :])\naxes[1].set_ylabel('Corrupted trial')"
      ], 
      "outputs": [], 
      "metadata": {
        "collapsed": false
      }
    }
  ], 
  "metadata": {
    "kernelspec": {
      "display_name": "Python 2", 
      "name": "python2", 
      "language": "python"
    }, 
    "language_info": {
      "mimetype": "text/x-python", 
      "nbconvert_exporter": "python", 
      "name": "python", 
      "file_extension": ".py", 
      "version": "2.7.13", 
      "pygments_lexer": "ipython2", 
      "codemirror_mode": {
        "version": 2, 
        "name": "ipython"
      }
    }
  }
}