{
  "nbformat_minor": 0, 
  "nbformat": 4, 
  "cells": [
    {
      "execution_count": null, 
      "cell_type": "code", 
      "source": [
        "%matplotlib inline"
      ], 
      "outputs": [], 
      "metadata": {
        "collapsed": false
      }
    }, 
    {
      "source": [
        "\n# Vanilla CSC on simulated data\n\nThis example demonstrates `vanilla' CSC on simulated data.\nNote that `vanilla' CSC is just a special case of\nalphaCSC with alpha=2.\n\n"
      ], 
      "cell_type": "markdown", 
      "metadata": {}
    }, 
    {
      "execution_count": null, 
      "cell_type": "code", 
      "source": [
        "# Authors: Mainak Jas <mainak.jas@telecom-paristech.fr>\n#          Tom Dupre La Tour <tom.duprelatour@telecom-paristech.fr>\n#          Umut Simsekli <umut.simsekli@telecom-paristech.fr>\n#          Alexandre Gramfort <alexandre.gramfort@telecom-paristech.fr>\n#\n# License: BSD (3-clause)"
      ], 
      "outputs": [], 
      "metadata": {
        "collapsed": false
      }
    }, 
    {
      "source": [
        "Let us first define the parameters of our model.\n"
      ], 
      "cell_type": "markdown", 
      "metadata": {}
    }, 
    {
      "execution_count": null, 
      "cell_type": "code", 
      "source": [
        "n_times_atom = 64  # L\nn_times = 512  # T\nn_atoms = 2  # K\nn_trials = 100  # N\nn_iter = 50\n\nreg = 0.1"
      ], 
      "outputs": [], 
      "metadata": {
        "collapsed": false
      }
    }, 
    {
      "source": [
        "Here, we simulate the data\n"
      ], 
      "cell_type": "markdown", 
      "metadata": {}
    }, 
    {
      "execution_count": null, 
      "cell_type": "code", 
      "source": [
        "from alphacsc.simulate import simulate_data # noqa\n\nrandom_state_simulate = 1\nX, ds_true, Z_true = simulate_data(n_trials, n_times, n_times_atom,\n                                   n_atoms, random_state_simulate)"
      ], 
      "outputs": [], 
      "metadata": {
        "collapsed": false
      }
    }, 
    {
      "source": [
        "Add some noise and corrupt some trials\n"
      ], 
      "cell_type": "markdown", 
      "metadata": {}
    }, 
    {
      "execution_count": null, 
      "cell_type": "code", 
      "source": [
        "from scipy.stats import levy_stable # noqa\nfrom alphacsc import check_random_state # noqa\n\n# Add stationary noise:\nfraction_corrupted = 0.02\nn_corrupted_trials = int(fraction_corrupted * n_trials)\n\nrng = check_random_state(random_state_simulate)\nX += 0.01 * rng.randn(*X.shape)\n\nidx_corrupted = rng.randint(0, n_trials,\n                            size=n_corrupted_trials)"
      ], 
      "outputs": [], 
      "metadata": {
        "collapsed": false
      }
    }, 
    {
      "source": [
        "Let us look at the first 10 trials to see how they look.\n"
      ], 
      "cell_type": "markdown", 
      "metadata": {}
    }, 
    {
      "execution_count": null, 
      "cell_type": "code", 
      "source": [
        "from alphacsc.utils import plot_data # noqa\nplot_data([X[:10]])"
      ], 
      "outputs": [], 
      "metadata": {
        "collapsed": false
      }
    }, 
    {
      "source": [
        "Note that the atoms don't always have the same amplitude or occur at the\nsame time instant.\n\nNow, we run vanilla CSC on the data.\n"
      ], 
      "cell_type": "markdown", 
      "metadata": {}
    }, 
    {
      "execution_count": null, 
      "cell_type": "code", 
      "source": [
        "from functools import partial # noqa\nfrom alphacsc import learn_d_z, update_d_block # noqa\n\nrandom_state = 60\n\npobj, times, d_hat, Z_hat = learn_d_z(\n    X, n_atoms, n_times_atom, reg=reg, n_iter=n_iter,\n    solver_d_kwargs=dict(factr=100), random_state=random_state,\n    n_jobs=1, verbose=1)\nprint('Vanilla CSC')"
      ], 
      "outputs": [], 
      "metadata": {
        "collapsed": false
      }
    }, 
    {
      "source": [
        "Finally, let's compare the results.\n"
      ], 
      "cell_type": "markdown", 
      "metadata": {}
    }, 
    {
      "execution_count": null, 
      "cell_type": "code", 
      "source": [
        "import matplotlib.pyplot as plt # noqa\nplt.figure()\nplt.plot(d_hat.T)"
      ], 
      "outputs": [], 
      "metadata": {
        "collapsed": false
      }
    }, 
    {
      "source": [
        "This looks quite similar to the true atoms.\n"
      ], 
      "cell_type": "markdown", 
      "metadata": {}
    }, 
    {
      "execution_count": null, 
      "cell_type": "code", 
      "source": [
        "plt.figure()\nplt.plot(ds_true.T)"
      ], 
      "outputs": [], 
      "metadata": {
        "collapsed": false
      }
    }, 
    {
      "source": [
        "Note if the data is corrupted with impulsive noise, this method may not\nbe the best.  Check out our\n:ref:`example using alphacsc <sphx_glr_auto_examples_plot_simulate_alphacsc.py>`\nto learn how to deal with such data.\n"
      ], 
      "cell_type": "markdown", 
      "metadata": {}
    }, 
    {
      "execution_count": null, 
      "cell_type": "code", 
      "source": [
        "alpha = 1.2\nnoise_level = 0.005\nX[idx_corrupted] += levy_stable.rvs(alpha, 0, loc=0, scale=noise_level,\n                                    size=(n_corrupted_trials, n_times),\n                                    random_state=random_state_simulate)\npobj, times, d_hat, Z_hat = learn_d_z(\n    X, n_atoms, n_times_atom, reg=reg, n_iter=n_iter,\n    solver_d_kwargs=dict(factr=100), random_state=random_state,\n    n_jobs=1, verbose=1)\nplt.figure()\nplt.plot(d_hat.T)\nplt.show()"
      ], 
      "outputs": [], 
      "metadata": {
        "collapsed": false
      }
    }
  ], 
  "metadata": {
    "kernelspec": {
      "display_name": "Python 2", 
      "name": "python2", 
      "language": "python"
    }, 
    "language_info": {
      "mimetype": "text/x-python", 
      "nbconvert_exporter": "python", 
      "name": "python", 
      "file_extension": ".py", 
      "version": "2.7.13", 
      "pygments_lexer": "ipython2", 
      "codemirror_mode": {
        "version": 2, 
        "name": "ipython"
      }
    }
  }
}