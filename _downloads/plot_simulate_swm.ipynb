{
  "nbformat_minor": 0, 
  "nbformat": 4, 
  "cells": [
    {
      "execution_count": null, 
      "cell_type": "code", 
      "source": [
        "%matplotlib inline"
      ], 
      "outputs": [], 
      "metadata": {
        "collapsed": false
      }
    }, 
    {
      "source": [
        "\n# SWM on simulated data\n\nThis example shows how the sliding window method (SWM) [1]\nworks on simulated data. The code is adapted from the\n`neurodsp package <https://github.com/voytekresearch/neurodsp/>`_\nfrom Voytek lab. Note that, at present, it does not\nimplement parallel tempering.\n\n[1] Gips, Bart, et al.\n\"Discovering recurring patterns in electrophysiological recordings.\"\nJournal of neuroscience methods 275 (2017): 66-79.\n"
      ], 
      "cell_type": "markdown", 
      "metadata": {}
    }, 
    {
      "execution_count": null, 
      "cell_type": "code", 
      "source": [
        "# Authors: Scott Cole\n#          Mainak Jas <mainak.jas@telecom-paristech.fr>\n#\n# License: BSD (3-clause)"
      ], 
      "outputs": [], 
      "metadata": {
        "collapsed": false
      }
    }, 
    {
      "source": [
        "Let us define the model parameters\n"
      ], 
      "cell_type": "markdown", 
      "metadata": {}
    }, 
    {
      "execution_count": null, 
      "cell_type": "code", 
      "source": [
        "n_times_atom = 64  # L\nn_times = 5000  # T\nn_trials = 10  # N"
      ], 
      "outputs": [], 
      "metadata": {
        "collapsed": false
      }
    }, 
    {
      "source": [
        "The algorithm does not naturally lend itself to multiple atoms. Therefore,\nwe simulate only one atom.\n"
      ], 
      "cell_type": "markdown", 
      "metadata": {}
    }, 
    {
      "execution_count": null, 
      "cell_type": "code", 
      "source": [
        "n_atoms = 1  # K"
      ], 
      "outputs": [], 
      "metadata": {
        "collapsed": false
      }
    }, 
    {
      "source": [
        "A minimum spacing between the windows averaged must be found.\n"
      ], 
      "cell_type": "markdown", 
      "metadata": {}
    }, 
    {
      "execution_count": null, 
      "cell_type": "code", 
      "source": [
        "min_spacing = 200  # G"
      ], 
      "outputs": [], 
      "metadata": {
        "collapsed": false
      }
    }, 
    {
      "source": [
        "Now, we can simulate\n"
      ], 
      "cell_type": "markdown", 
      "metadata": {}
    }, 
    {
      "execution_count": null, 
      "cell_type": "code", 
      "source": [
        "from alphacsc import check_random_state # noqa\nfrom alphacsc.simulate import simulate_data # noqa\n\nrandom_state_simulate = 1\nX, ds_true, Z_true = simulate_data(n_trials, n_times, n_times_atom,\n                                   n_atoms, random_state_simulate,\n                                   constant_amplitude=True)\n\nrng = check_random_state(random_state_simulate)\nX += 0.01 * rng.randn(*X.shape)"
      ], 
      "outputs": [], 
      "metadata": {
        "collapsed": false
      }
    }, 
    {
      "source": [
        "We expect 10 occurences of the atom in total.\nSo, let us define 10 random locations for the algorithm to start with.\nIf this number is not known, we will end up estimating more/less windows.\n"
      ], 
      "cell_type": "markdown", 
      "metadata": {}
    }, 
    {
      "execution_count": null, 
      "cell_type": "code", 
      "source": [
        "import numpy as np # noqa\nwindow_starts = rng.choice(np.arange(n_trials * n_times), size=n_trials)"
      ], 
      "outputs": [], 
      "metadata": {
        "collapsed": false
      }
    }, 
    {
      "source": [
        "Now, we apply the SWM algorithm now.\n"
      ], 
      "cell_type": "markdown", 
      "metadata": {}
    }, 
    {
      "execution_count": null, 
      "cell_type": "code", 
      "source": [
        "from alphacsc.swm import sliding_window_matching # noqa\n\nrandom_state = 42\nX = X.reshape(X.shape[0] * X.shape[1])  # expects 1D time series\nd_hat, window_starts, J = sliding_window_matching(\n    X, L=n_times_atom, G=min_spacing, window_starts_custom=window_starts,\n    max_iterations=10000, T=0.01, random_state=random_state)"
      ], 
      "outputs": [], 
      "metadata": {
        "collapsed": false
      }
    }, 
    {
      "source": [
        "Let us look at the data at the time windows when the atoms are found.\n"
      ], 
      "cell_type": "markdown", 
      "metadata": {}
    }, 
    {
      "execution_count": null, 
      "cell_type": "code", 
      "source": [
        "import matplotlib.pyplot as plt # noqa\nfig, axes = plt.subplots(2, n_trials // 2, sharex=True, sharey=True,\n                         figsize=(15, 3))\naxes = axes.ravel()\nfor ax, w_start in zip(axes, window_starts):\n    ax.plot(X[w_start:w_start + n_times_atom])"
      ], 
      "outputs": [], 
      "metadata": {
        "collapsed": false
      }
    }, 
    {
      "source": [
        "It is not perfect, but it does find time windows where the atom\nis present. Now let us plot the atoms.\n"
      ], 
      "cell_type": "markdown", 
      "metadata": {}
    }, 
    {
      "execution_count": null, 
      "cell_type": "code", 
      "source": [
        "plt.figure()\nplt.plot(d_hat / np.linalg.norm(d_hat))\nplt.plot(ds_true.T, '--')"
      ], 
      "outputs": [], 
      "metadata": {
        "collapsed": false
      }
    }, 
    {
      "source": [
        "and the cost function over iterations\n"
      ], 
      "cell_type": "markdown", 
      "metadata": {}
    }, 
    {
      "execution_count": null, 
      "cell_type": "code", 
      "source": [
        "plt.figure()\nplt.plot(J)\nplt.ylabel('Cost function J')\nplt.xlabel('Iteration #')\nplt.show()"
      ], 
      "outputs": [], 
      "metadata": {
        "collapsed": false
      }
    }
  ], 
  "metadata": {
    "kernelspec": {
      "display_name": "Python 2", 
      "name": "python2", 
      "language": "python"
    }, 
    "language_info": {
      "mimetype": "text/x-python", 
      "nbconvert_exporter": "python", 
      "name": "python", 
      "file_extension": ".py", 
      "version": "2.7.13", 
      "pygments_lexer": "ipython2", 
      "codemirror_mode": {
        "version": 2, 
        "name": "ipython"
      }
    }
  }
}