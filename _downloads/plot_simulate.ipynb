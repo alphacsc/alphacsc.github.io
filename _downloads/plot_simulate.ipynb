{
  "nbformat_minor": 0, 
  "nbformat": 4, 
  "cells": [
    {
      "execution_count": null, 
      "cell_type": "code", 
      "source": [
        "%matplotlib inline"
      ], 
      "outputs": [], 
      "metadata": {
        "collapsed": false
      }
    }, 
    {
      "source": [
        "\n# Alpha CSC on simulated data\n\nThis example demonstrates alphaCSC on simulated data.\n\n"
      ], 
      "cell_type": "markdown", 
      "metadata": {}
    }, 
    {
      "execution_count": null, 
      "cell_type": "code", 
      "source": [
        "# Authors: Mainak Jas <mainak.jas@telecom-paristech.fr>\n#          Tom Dupre La Tour <tom.duprelatour@telecom-paristech.fr>\n#          Umut Simsekli <umut.simsekli@telecom-paristech.fr>\n#          Alexandre Gramfort <alexandre.gramfort@telecom-paristech.fr>\n#\n# License: BSD (3-clause)"
      ], 
      "outputs": [], 
      "metadata": {
        "collapsed": false
      }
    }, 
    {
      "source": [
        "Let us first define the parameters of our model.\n"
      ], 
      "cell_type": "markdown", 
      "metadata": {}
    }, 
    {
      "execution_count": null, 
      "cell_type": "code", 
      "source": [
        "n_times_atom = 64  # L\nn_times = 512  # T\nn_atoms = 2  # K\nn_trials = 100  # N\n\nalpha = 1.2"
      ], 
      "outputs": [], 
      "metadata": {
        "collapsed": false
      }
    }, 
    {
      "source": [
        "Next, we define the parameters for alpha CSC\n"
      ], 
      "cell_type": "markdown", 
      "metadata": {}
    }, 
    {
      "execution_count": null, 
      "cell_type": "code", 
      "source": [
        "n_iter_global = 10\nn_iter_optim = 20\nn_iter_mcmc = 100\nn_burnin_mcmc = 50\n\nn_iter = n_iter_global * n_iter_optim  # fair comparison"
      ], 
      "outputs": [], 
      "metadata": {
        "collapsed": false
      }
    }, 
    {
      "source": [
        "Here, we simulate the data\n"
      ], 
      "cell_type": "markdown", 
      "metadata": {}
    }, 
    {
      "execution_count": null, 
      "cell_type": "code", 
      "source": [
        "from alphacsc.simulate import simulate_data # noqa\n\nrandom_state_simulate = 1\nX, ds_true, Z_true = simulate_data(n_trials, n_times, n_times_atom,\n                                   n_atoms, random_state_simulate)"
      ], 
      "outputs": [], 
      "metadata": {
        "collapsed": false
      }
    }, 
    {
      "source": [
        "Add some noise and corrupt some trials\n"
      ], 
      "cell_type": "markdown", 
      "metadata": {}
    }, 
    {
      "execution_count": null, 
      "cell_type": "code", 
      "source": [
        "from scipy.stats import levy_stable # noqa\nfrom alphacsc import check_random_state # noqa\n\nfraction_corrupted = 0.01\nprint('fraction_corrupted: %0.2f' % fraction_corrupted)\nn_corrupted_trials = int(fraction_corrupted * n_trials)\n\n# Add stationary noise:\nrng = check_random_state(random_state_simulate)\nX += 0.01 * rng.randn(*X.shape)\n\nnoise_level = 0.005\n# add impulsive noise\nif n_corrupted_trials > 0:\n    idx_corrupted = rng.randint(0, n_trials,\n                                size=n_corrupted_trials)\n    X[idx_corrupted] += levy_stable.rvs(alpha, 0, loc=0, scale=noise_level,\n                                        size=(n_corrupted_trials, n_times),\n                                        random_state=random_state_simulate)"
      ], 
      "outputs": [], 
      "metadata": {
        "collapsed": false
      }
    }, 
    {
      "source": [
        "Now, we run vanilla CSC on the data.\n"
      ], 
      "cell_type": "markdown", 
      "metadata": {}
    }, 
    {
      "execution_count": null, 
      "cell_type": "code", 
      "source": [
        "from functools import partial # noqa\nfrom alphacsc import learn_d_z, update_d_block # noqa\n\nreg = 0.2  # twice the regularization in alpha-CSC\nrandom_state = 60\nfunc = partial(update_d_block, projection='dual')\n\npobj, times, d_hat, Z_hat = learn_d_z(\n    X, n_atoms, n_times_atom, func_d=func, reg=reg,\n    n_iter=n_iter,\n    solver_d_kwargs=dict(factr=100), random_state=random_state,\n    n_jobs=1, solver_z='l_bfgs', verbose=1)\nprint('Vanilla CSC')"
      ], 
      "outputs": [], 
      "metadata": {
        "collapsed": false
      }
    }, 
    {
      "source": [
        "and then alpha CSC on the same data\n"
      ], 
      "cell_type": "markdown", 
      "metadata": {}
    }, 
    {
      "execution_count": null, 
      "cell_type": "code", 
      "source": [
        "from alphacsc import learn_d_z_weighted # noqa\n\nreg = 0.1  # let's give CSC the benefit of doubt :)\nd_hat_mcem, z_hat_mcem, Tau = learn_d_z_weighted(\n    X, n_atoms, n_times_atom, func_d=func, reg=reg, alpha=alpha,\n    solver_d_kwargs=dict(factr=100), n_iter_global=n_iter_global,\n    n_iter_optim=n_iter_optim,\n    n_iter_mcmc=n_iter_mcmc, n_burnin_mcmc=n_burnin_mcmc,\n    random_state=random_state, n_jobs=1, solver_z='l_bfgs',\n    verbose=1)"
      ], 
      "outputs": [], 
      "metadata": {
        "collapsed": false
      }
    }, 
    {
      "source": [
        "Finally, let's compare the results.\n"
      ], 
      "cell_type": "markdown", 
      "metadata": {}
    }, 
    {
      "execution_count": null, 
      "cell_type": "code", 
      "source": [
        "import matplotlib.pyplot as plt # noqa\n\nplt.plot(d_hat.T, 'b', label='CSC')\nplt.plot(d_hat_mcem.T, 'r', label=r'$\\alpha$CSC')\nplt.plot(ds_true.T, 'k--', label='True atoms')\nhandles, labels = plt.gca().get_legend_handles_labels()\nplt.legend(handles[::2], labels[::2], loc='best')\nplt.show()"
      ], 
      "outputs": [], 
      "metadata": {
        "collapsed": false
      }
    }
  ], 
  "metadata": {
    "kernelspec": {
      "display_name": "Python 2", 
      "name": "python2", 
      "language": "python"
    }, 
    "language_info": {
      "mimetype": "text/x-python", 
      "nbconvert_exporter": "python", 
      "name": "python", 
      "file_extension": ".py", 
      "version": "2.7.13", 
      "pygments_lexer": "ipython2", 
      "codemirror_mode": {
        "version": 2, 
        "name": "ipython"
      }
    }
  }
}