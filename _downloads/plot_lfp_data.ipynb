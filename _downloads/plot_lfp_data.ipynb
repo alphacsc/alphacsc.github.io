{
  "nbformat_minor": 0, 
  "nbformat": 4, 
  "cells": [
    {
      "execution_count": null, 
      "cell_type": "code", 
      "source": [
        "%matplotlib inline"
      ], 
      "outputs": [], 
      "metadata": {
        "collapsed": false
      }
    }, 
    {
      "source": [
        "\n# CSC to learn LFP spiking atoms\n\n\nHere, we show how CSC can be used to learn spiking\natoms from Local Field Potential (LFP) data [1].\n\n[1] Hitziger, Sebastian, et al.\n    Adaptive Waveform Learning: A Framework for Modeling Variability in\n    Neurophysiological Signals. IEEE Transactions on Signal Processing (2017).\n"
      ], 
      "cell_type": "markdown", 
      "metadata": {}
    }, 
    {
      "source": [
        "First, let us fetch the data (~14 MB)\n"
      ], 
      "cell_type": "markdown", 
      "metadata": {}
    }, 
    {
      "execution_count": null, 
      "cell_type": "code", 
      "source": [
        "import os\nfrom mne.utils import _fetch_file # noqa\n\nurl = ('https://github.com/hitziger/AWL/raw/master/Experiments/data/'\n       'LFP_data_contiguous_1250_Hz.mat')\nfname = './LFP_data_contiguous_1250_Hz.mat'\nif not os.path.exists(fname):\n    _fetch_file(url, fname)"
      ], 
      "outputs": [], 
      "metadata": {
        "collapsed": false
      }
    }, 
    {
      "source": [
        "It is a mat file, so we use scipy to load it\n"
      ], 
      "cell_type": "markdown", 
      "metadata": {}
    }, 
    {
      "execution_count": null, 
      "cell_type": "code", 
      "source": [
        "from scipy import io # noqa\n\ndata = io.loadmat(fname)\nX, sfreq = data['X'].T, float(data['sfreq'])"
      ], 
      "outputs": [], 
      "metadata": {
        "collapsed": false
      }
    }, 
    {
      "source": [
        "And now let us look at the data\n"
      ], 
      "cell_type": "markdown", 
      "metadata": {}
    }, 
    {
      "execution_count": null, 
      "cell_type": "code", 
      "source": [
        "import numpy as np # noqa\nimport matplotlib.pyplot as plt # noqa\n\nstart, stop = 11000, 15000\ntimes = np.arange(start, stop) / sfreq\nplt.plot(times, X[0, start:stop], color='b')\nplt.xlabel('Time (s)')\nplt.ylabel(r'$\\mu$ V')\nplt.xlim([9., 12.])"
      ], 
      "outputs": [], 
      "metadata": {
        "collapsed": false
      }
    }, 
    {
      "source": [
        "and filter it using a convenient function from MNE. This will remove low\nfrequency drifts, but we keep the high frequency as much as we can\n"
      ], 
      "cell_type": "markdown", 
      "metadata": {}
    }, 
    {
      "execution_count": null, 
      "cell_type": "code", 
      "source": [
        "from mne.filter import filter_data # noqa\nX = filter_data(X.astype(np.float64), sfreq, l_freq=1, h_freq=300)"
      ], 
      "outputs": [], 
      "metadata": {
        "collapsed": false
      }
    }, 
    {
      "source": [
        "Now, we define the parameters of our model.\n"
      ], 
      "cell_type": "markdown", 
      "metadata": {}
    }, 
    {
      "execution_count": null, 
      "cell_type": "code", 
      "source": [
        "reg = 6.0\nn_times = 2500\nn_times_atom = 350\nn_trials = 100\nn_atoms = 3\nn_iter = 60"
      ], 
      "outputs": [], 
      "metadata": {
        "collapsed": false
      }
    }, 
    {
      "source": [
        "Let's stick to one random state for now, but if you want to learn how to\nselect the random state, consult this example.\n"
      ], 
      "cell_type": "markdown", 
      "metadata": {}
    }, 
    {
      "execution_count": null, 
      "cell_type": "code", 
      "source": [
        "random_state = 10"
      ], 
      "outputs": [], 
      "metadata": {
        "collapsed": false
      }
    }, 
    {
      "source": [
        "Now, we epoch the trials\n"
      ], 
      "cell_type": "markdown", 
      "metadata": {}
    }, 
    {
      "execution_count": null, 
      "cell_type": "code", 
      "source": [
        "overlap = 0\nstarts = np.arange(0, X.shape[1] - n_times, n_times - overlap)\nstops = np.arange(n_times, X.shape[1], n_times - overlap)\n\nX_new = []\nfor idx, (start, stop) in enumerate(zip(starts, stops)):\n    if idx >= n_trials:\n        break\n    X_new.append(X[0, start:stop])\nX_new = np.vstack(X_new)\ndel X"
      ], 
      "outputs": [], 
      "metadata": {
        "collapsed": false
      }
    }, 
    {
      "source": [
        "We remove the mean and scale to unit variance.\n"
      ], 
      "cell_type": "markdown", 
      "metadata": {}
    }, 
    {
      "execution_count": null, 
      "cell_type": "code", 
      "source": [
        "X_new -= np.mean(X_new)\nX_new /= np.std(X_new)"
      ], 
      "outputs": [], 
      "metadata": {
        "collapsed": false
      }
    }, 
    {
      "source": [
        "The convolutions can result in edge artifacts at the edges of the trials.\nTherefore, we discount the contributions from the edges by windowing the\ntrials.\n"
      ], 
      "cell_type": "markdown", 
      "metadata": {}
    }, 
    {
      "execution_count": null, 
      "cell_type": "code", 
      "source": [
        "from numpy import hamming # noqa\nX_new *= hamming(n_times)[None, :]"
      ], 
      "outputs": [], 
      "metadata": {
        "collapsed": false
      }
    }, 
    {
      "source": [
        "Of course, in a data-limited setting we want to use as much of the data as\npossible. If this is the case, you can set `overlap` to non-zero (for example\nhalf the epoch length).\n\nNow, we run regular CSC since the trials are not too noisy\n"
      ], 
      "cell_type": "markdown", 
      "metadata": {}
    }, 
    {
      "execution_count": null, 
      "cell_type": "code", 
      "source": [
        "from alphacsc import learn_d_z # noqa\npobj, times, d_hat, Z_hat = learn_d_z(X_new, n_atoms, n_times_atom, reg=reg,\n                                      n_iter=n_iter, random_state=random_state,\n                                      n_jobs=1)"
      ], 
      "outputs": [], 
      "metadata": {
        "collapsed": false
      }
    }, 
    {
      "source": [
        "Let's look at the atoms now.\n"
      ], 
      "cell_type": "markdown", 
      "metadata": {}
    }, 
    {
      "execution_count": null, 
      "cell_type": "code", 
      "source": [
        "plt.figure()\nplt.plot(d_hat.T)\nplt.show()"
      ], 
      "outputs": [], 
      "metadata": {
        "collapsed": false
      }
    }
  ], 
  "metadata": {
    "kernelspec": {
      "display_name": "Python 2", 
      "name": "python2", 
      "language": "python"
    }, 
    "language_info": {
      "mimetype": "text/x-python", 
      "nbconvert_exporter": "python", 
      "name": "python", 
      "file_extension": ".py", 
      "version": "2.7.13", 
      "pygments_lexer": "ipython2", 
      "codemirror_mode": {
        "version": 2, 
        "name": "ipython"
      }
    }
  }
}